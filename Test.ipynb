{
 "cells": [
  {
   "cell_type": "markdown",
   "id": "21b7d07b-e6f0-47a5-a931-a4bae397148b",
   "metadata": {},
   "source": [
    "# Unit tests and integration tests"
   ]
  },
  {
   "cell_type": "code",
   "execution_count": 2,
   "id": "dcec60a4-e849-4b87-ba38-57cc431f0445",
   "metadata": {},
   "outputs": [
    {
     "name": "stdout",
     "output_type": "stream",
     "text": [
      "Julia: 1.10.2\n",
      "Number of threads: 12\n",
      "Test Summary:         | Pass  Total  Time\n",
      "Agent and agent_color |    7      7  0.1s\n",
      "Test Summary: | Pass  Total  Time\n",
      "to_csv        |    2      2  0.1s\n",
      "Test Summary: | Pass  Total  Time\n",
      "calc_ev_spans |    3      3  0.0s\n",
      "model = StandardABM with 7000 agents of type Agent\n",
      " agents container: Dict\n",
      " space: GridSpaceSingle with size (100, 100), metric=chebyshev, periodic=true\n",
      " scheduler: fastest\n",
      " properties: dims, periodic_space, distance_metric, N, ϕC0, prob_EV, prob_EV_t, λ, cycle, sor_vec, θ_mat, EV_spans, T, S, payoff_table, prob_move, sor_orientation, x0, μ, generation, trial, seed, snapshots\n",
      "Test Summary: | Pass  Total  Time\n",
      "Model         |   14     14  0.4s\n",
      "Test Summary:       | Pass  Total  Time\n",
      "Model (multithread) |    1      1  0.1s\n",
      "Test Summary:         | Pass  Total  Time\n",
      "update_prob_EV! tests |   26     26  1.0s\n",
      "Test Summary:                                                   | Pass  Total  Time\n",
      "move_sor! (periodic_space = true, distance_metric = :manhattan) |    5      5  0.0s\n",
      "Test Summary:                                                                                      | Pass  Total  Time\n",
      "move_sor! (periodic_space = true or false, distance_metric = :manhattan, :chebyshev or :euclidean) |    6      6  0.1s\n",
      "Test Summary: | Pass  Total  Time\n",
      "calc_distance |    6      6  0.0s\n",
      "Test Summary:    | Pass  Total  Time\n",
      "calc_temperature |    5      5  0.0s\n",
      "Test Summary: | Pass  Total  Time\n",
      "set_θ_mat!    |    7      7  0.0s\n",
      "Test Summary: | Pass  Total  Time\n",
      "play_game     |    8      8  0.0s\n",
      "Test Summary:           | Pass  Total  Time\n",
      "calc_payoff_to_fitness! |    6      6  0.1s\n",
      "Test Summary:  | Pass  Total  Time\n",
      "reset_payoffs! |    3      3  0.0s\n",
      "Test Summary:                              | Pass  Total  Time\n",
      "play_games! (distance_metric = :manhattan) |    7      7  0.1s\n",
      "Test Summary:                              | Pass  Total  Time\n",
      "play_games! (distance_metric = :chebyshev) |    7      7  0.1s\n",
      "Test Summary:                              | Pass  Total  Time\n",
      "play_games! (distance_metric = :euclidean) |    7      7  0.1s\n",
      "Test Summary:             | Pass  Total  Time\n",
      "get_minimum_θ_destination |    3      3  0.0s\n",
      "Test Summary:   | Pass  Total  Time\n",
      "move_one_agent! |    7      7  0.0s\n",
      "Test Summary: | Pass  Total  Time\n",
      "move!         |   12     12  0.2s\n",
      "Test Summary:    | Pass  Total  Time\n",
      "update_strategy! |    6      6  0.1s\n",
      "Test Summary: | Pass  Total  Time\n",
      "run!          |    6      6  0.7s\n",
      "Test Summary:                                                 | Pass  Total  Time\n",
      "run_simulation!(properties::ModelProperties)::Matrix{Float64} |    1      1  0.4s\n",
      "Test Summary:    | Pass  Total  Time\n",
      "calc_mean_std_ϕC |    1      1  0.1s\n",
      "log_test/20250807_164104.csv\n",
      "4 5 6 7 8 9 \n",
      "2025/08/07_16:41:04\n",
      "Test Summary:                                                     |Time\n",
      "run_simulation!(properties_vec::Vector{ModelProperties})::Nothing | None  0.1s\n"
     ]
    }
   ],
   "source": [
    "run(`julia test/SimulationTest.jl`);"
   ]
  },
  {
   "cell_type": "markdown",
   "id": "8f1b37c2-1fa2-4d7d-99cf-cac81dc78a1f",
   "metadata": {},
   "source": [
    "# Performance test"
   ]
  },
  {
   "cell_type": "code",
   "execution_count": 4,
   "id": "1184bfb1-795a-4948-93aa-ab626ee01ff8",
   "metadata": {},
   "outputs": [
    {
     "name": "stdout",
     "output_type": "stream",
     "text": [
      "Julia: 1.10.2\n",
      "Number of threads: 12\n"
     ]
    }
   ],
   "source": [
    "using BenchmarkTools\n",
    "using Profile\n",
    "using ProfileView\n",
    "\n",
    "include(\"src/Simulation.jl\")\n",
    "using .Simulation: ModelProperties, run_simulation!\n",
    "\n",
    "const properties = ModelProperties(\n",
    "    N = 5000,\n",
    "    T = 1.6,\n",
    "    prob_EV = 1.0,\n",
    "    prob_move = 1.0,\n",
    ");"
   ]
  },
  {
   "cell_type": "code",
   "execution_count": 5,
   "id": "45fe6b34-593e-427d-b716-8ad90925ff57",
   "metadata": {},
   "outputs": [
    {
     "name": "stdout",
     "output_type": "stream",
     "text": [
      "  13.566 s (1520953141 allocations: 27.76 GiB)\n"
     ]
    }
   ],
   "source": [
    "# 32.204 s (1515448156 allocations: 27.63 GiB)\n",
    "# 17.537 s (1507544024 allocations: 27.62 GiB)\n",
    "# 24.878 s (1513104576 allocations: 27.64 GiB)\n",
    "@btime run_simulation!(properties);"
   ]
  },
  {
   "cell_type": "code",
   "execution_count": 6,
   "id": "bc9ee848-67c7-47bb-b745-8be0a292630f",
   "metadata": {},
   "outputs": [],
   "source": [
    "# @profile run_simulation!(properties)\n",
    "# ProfileView.view();"
   ]
  }
 ],
 "metadata": {
  "kernelspec": {
   "display_name": "Julia 1.10.2",
   "language": "julia",
   "name": "julia-1.10"
  },
  "language_info": {
   "file_extension": ".jl",
   "mimetype": "application/julia",
   "name": "julia",
   "version": "1.10.2"
  }
 },
 "nbformat": 4,
 "nbformat_minor": 5
}
